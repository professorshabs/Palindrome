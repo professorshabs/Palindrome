{
 "cells": [
  {
   "cell_type": "markdown",
   "metadata": {},
   "source": [
    "Professor Shabangu: 06 April 2021 <br/>\n",
    "Palindrome data excercise   "
   ]
  },
  {
   "cell_type": "code",
   "execution_count": 1,
   "metadata": {},
   "outputs": [],
   "source": [
    "import pandas as pd\n",
    "import seaborn as sns\n",
    "import matplotlib.pyplot as plt\n",
    "import datetime\n",
    "start_time = datetime.datetime.now()"
   ]
  },
  {
   "cell_type": "code",
   "execution_count": 2,
   "metadata": {},
   "outputs": [],
   "source": [
    "df = pd.read_excel('pone.0212445.s004.xlsx')"
   ]
  },
  {
   "cell_type": "code",
   "execution_count": 3,
   "metadata": {},
   "outputs": [
    {
     "name": "stdout",
     "output_type": "stream",
     "text": [
      "(104, 9)\n"
     ]
    }
   ],
   "source": [
    "print(df.shape)"
   ]
  },
  {
   "cell_type": "code",
   "execution_count": 4,
   "metadata": {},
   "outputs": [
    {
     "data": {
      "text/html": [
       "<div>\n",
       "<style scoped>\n",
       "    .dataframe tbody tr th:only-of-type {\n",
       "        vertical-align: middle;\n",
       "    }\n",
       "\n",
       "    .dataframe tbody tr th {\n",
       "        vertical-align: top;\n",
       "    }\n",
       "\n",
       "    .dataframe thead th {\n",
       "        text-align: right;\n",
       "    }\n",
       "</style>\n",
       "<table border=\"1\" class=\"dataframe\">\n",
       "  <thead>\n",
       "    <tr style=\"text-align: right;\">\n",
       "      <th></th>\n",
       "      <th>District</th>\n",
       "      <th>Code</th>\n",
       "      <th>Estimate</th>\n",
       "      <th>Prevalence_%</th>\n",
       "      <th>Prevalence_LCL</th>\n",
       "      <th>Prevalence_UCL</th>\n",
       "      <th>NoPLHIV</th>\n",
       "      <th>NoPLHIV_LCL</th>\n",
       "      <th>NoPLHIV_UCL</th>\n",
       "    </tr>\n",
       "  </thead>\n",
       "  <tbody>\n",
       "    <tr>\n",
       "      <th>0</th>\n",
       "      <td>Buffalo City</td>\n",
       "      <td>BUF</td>\n",
       "      <td>Survey</td>\n",
       "      <td>13.600000</td>\n",
       "      <td>10.268000</td>\n",
       "      <td>16.932000</td>\n",
       "      <td>102437</td>\n",
       "      <td>77340</td>\n",
       "      <td>127534</td>\n",
       "    </tr>\n",
       "    <tr>\n",
       "      <th>1</th>\n",
       "      <td>Buffalo City</td>\n",
       "      <td>BUF</td>\n",
       "      <td>Fay-Heriott</td>\n",
       "      <td>13.501283</td>\n",
       "      <td>11.031605</td>\n",
       "      <td>16.421802</td>\n",
       "      <td>101693</td>\n",
       "      <td>83092</td>\n",
       "      <td>123691</td>\n",
       "    </tr>\n",
       "    <tr>\n",
       "      <th>2</th>\n",
       "      <td>City of Cape Town</td>\n",
       "      <td>CPT</td>\n",
       "      <td>Survey</td>\n",
       "      <td>5.200000</td>\n",
       "      <td>3.044000</td>\n",
       "      <td>7.356000</td>\n",
       "      <td>200751</td>\n",
       "      <td>117517</td>\n",
       "      <td>283985</td>\n",
       "    </tr>\n",
       "    <tr>\n",
       "      <th>3</th>\n",
       "      <td>City of Cape Town</td>\n",
       "      <td>CPT</td>\n",
       "      <td>Fay-Heriott</td>\n",
       "      <td>6.020043</td>\n",
       "      <td>4.335072</td>\n",
       "      <td>8.303091</td>\n",
       "      <td>232409</td>\n",
       "      <td>167359</td>\n",
       "      <td>320548</td>\n",
       "    </tr>\n",
       "    <tr>\n",
       "      <th>4</th>\n",
       "      <td>West Coast</td>\n",
       "      <td>DC1</td>\n",
       "      <td>Survey</td>\n",
       "      <td>2.700000</td>\n",
       "      <td>0.000000</td>\n",
       "      <td>5.444000</td>\n",
       "      <td>11302</td>\n",
       "      <td>0</td>\n",
       "      <td>22789</td>\n",
       "    </tr>\n",
       "  </tbody>\n",
       "</table>\n",
       "</div>"
      ],
      "text/plain": [
       "            District Code     Estimate  Prevalence_%  Prevalence_LCL  \\\n",
       "0       Buffalo City  BUF       Survey     13.600000       10.268000   \n",
       "1       Buffalo City  BUF  Fay-Heriott     13.501283       11.031605   \n",
       "2  City of Cape Town  CPT       Survey      5.200000        3.044000   \n",
       "3  City of Cape Town  CPT  Fay-Heriott      6.020043        4.335072   \n",
       "4         West Coast  DC1       Survey      2.700000        0.000000   \n",
       "\n",
       "   Prevalence_UCL  NoPLHIV  NoPLHIV_LCL  NoPLHIV_UCL  \n",
       "0       16.932000   102437        77340       127534  \n",
       "1       16.421802   101693        83092       123691  \n",
       "2        7.356000   200751       117517       283985  \n",
       "3        8.303091   232409       167359       320548  \n",
       "4        5.444000    11302            0        22789  "
      ]
     },
     "execution_count": 4,
     "metadata": {},
     "output_type": "execute_result"
    }
   ],
   "source": [
    "df.head()"
   ]
  },
  {
   "cell_type": "code",
   "execution_count": 6,
   "metadata": {},
   "outputs": [
    {
     "data": {
      "text/html": [
       "<div>\n",
       "<style scoped>\n",
       "    .dataframe tbody tr th:only-of-type {\n",
       "        vertical-align: middle;\n",
       "    }\n",
       "\n",
       "    .dataframe tbody tr th {\n",
       "        vertical-align: top;\n",
       "    }\n",
       "\n",
       "    .dataframe thead th {\n",
       "        text-align: right;\n",
       "    }\n",
       "</style>\n",
       "<table border=\"1\" class=\"dataframe\">\n",
       "  <thead>\n",
       "    <tr style=\"text-align: right;\">\n",
       "      <th></th>\n",
       "      <th>District</th>\n",
       "      <th>Code</th>\n",
       "      <th>Estimate</th>\n",
       "      <th>Prevalence_%</th>\n",
       "      <th>Prevalence_LCL</th>\n",
       "      <th>Prevalence_UCL</th>\n",
       "      <th>NoPLHIV</th>\n",
       "      <th>NoPLHIV_LCL</th>\n",
       "      <th>NoPLHIV_UCL</th>\n",
       "    </tr>\n",
       "  </thead>\n",
       "  <tbody>\n",
       "    <tr>\n",
       "      <th>count</th>\n",
       "      <td>104</td>\n",
       "      <td>104</td>\n",
       "      <td>104</td>\n",
       "      <td>104.000000</td>\n",
       "      <td>104.000000</td>\n",
       "      <td>104.000000</td>\n",
       "      <td>104.000000</td>\n",
       "      <td>104.000000</td>\n",
       "      <td>104.000000</td>\n",
       "    </tr>\n",
       "    <tr>\n",
       "      <th>unique</th>\n",
       "      <td>52</td>\n",
       "      <td>52</td>\n",
       "      <td>2</td>\n",
       "      <td>NaN</td>\n",
       "      <td>NaN</td>\n",
       "      <td>NaN</td>\n",
       "      <td>NaN</td>\n",
       "      <td>NaN</td>\n",
       "      <td>NaN</td>\n",
       "    </tr>\n",
       "    <tr>\n",
       "      <th>top</th>\n",
       "      <td>Joe Gqabi</td>\n",
       "      <td>DC2</td>\n",
       "      <td>Fay-Heriott</td>\n",
       "      <td>NaN</td>\n",
       "      <td>NaN</td>\n",
       "      <td>NaN</td>\n",
       "      <td>NaN</td>\n",
       "      <td>NaN</td>\n",
       "      <td>NaN</td>\n",
       "    </tr>\n",
       "    <tr>\n",
       "      <th>freq</th>\n",
       "      <td>2</td>\n",
       "      <td>2</td>\n",
       "      <td>52</td>\n",
       "      <td>NaN</td>\n",
       "      <td>NaN</td>\n",
       "      <td>NaN</td>\n",
       "      <td>NaN</td>\n",
       "      <td>NaN</td>\n",
       "      <td>NaN</td>\n",
       "    </tr>\n",
       "    <tr>\n",
       "      <th>mean</th>\n",
       "      <td>NaN</td>\n",
       "      <td>NaN</td>\n",
       "      <td>NaN</td>\n",
       "      <td>12.113805</td>\n",
       "      <td>8.507655</td>\n",
       "      <td>16.142182</td>\n",
       "      <td>123914.230769</td>\n",
       "      <td>89210.009615</td>\n",
       "      <td>162458.317308</td>\n",
       "    </tr>\n",
       "    <tr>\n",
       "      <th>std</th>\n",
       "      <td>NaN</td>\n",
       "      <td>NaN</td>\n",
       "      <td>NaN</td>\n",
       "      <td>4.978586</td>\n",
       "      <td>4.635330</td>\n",
       "      <td>6.055076</td>\n",
       "      <td>115469.372356</td>\n",
       "      <td>89791.909524</td>\n",
       "      <td>145761.963447</td>\n",
       "    </tr>\n",
       "    <tr>\n",
       "      <th>min</th>\n",
       "      <td>NaN</td>\n",
       "      <td>NaN</td>\n",
       "      <td>NaN</td>\n",
       "      <td>1.584032</td>\n",
       "      <td>0.000000</td>\n",
       "      <td>2.998406</td>\n",
       "      <td>1876.000000</td>\n",
       "      <td>0.000000</td>\n",
       "      <td>3552.000000</td>\n",
       "    </tr>\n",
       "    <tr>\n",
       "      <th>25%</th>\n",
       "      <td>NaN</td>\n",
       "      <td>NaN</td>\n",
       "      <td>NaN</td>\n",
       "      <td>8.869829</td>\n",
       "      <td>4.911882</td>\n",
       "      <td>12.301325</td>\n",
       "      <td>46667.500000</td>\n",
       "      <td>28057.750000</td>\n",
       "      <td>68507.750000</td>\n",
       "    </tr>\n",
       "    <tr>\n",
       "      <th>50%</th>\n",
       "      <td>NaN</td>\n",
       "      <td>NaN</td>\n",
       "      <td>NaN</td>\n",
       "      <td>11.750000</td>\n",
       "      <td>8.165653</td>\n",
       "      <td>15.935119</td>\n",
       "      <td>99751.500000</td>\n",
       "      <td>69407.500000</td>\n",
       "      <td>136812.000000</td>\n",
       "    </tr>\n",
       "    <tr>\n",
       "      <th>75%</th>\n",
       "      <td>NaN</td>\n",
       "      <td>NaN</td>\n",
       "      <td>NaN</td>\n",
       "      <td>15.718785</td>\n",
       "      <td>11.617805</td>\n",
       "      <td>19.378361</td>\n",
       "      <td>146335.500000</td>\n",
       "      <td>115101.250000</td>\n",
       "      <td>181302.250000</td>\n",
       "    </tr>\n",
       "    <tr>\n",
       "      <th>max</th>\n",
       "      <td>NaN</td>\n",
       "      <td>NaN</td>\n",
       "      <td>NaN</td>\n",
       "      <td>25.000000</td>\n",
       "      <td>18.218028</td>\n",
       "      <td>40.945994</td>\n",
       "      <td>515387.000000</td>\n",
       "      <td>408472.000000</td>\n",
       "      <td>660996.000000</td>\n",
       "    </tr>\n",
       "  </tbody>\n",
       "</table>\n",
       "</div>"
      ],
      "text/plain": [
       "         District Code     Estimate  Prevalence_%  Prevalence_LCL  \\\n",
       "count         104  104          104    104.000000      104.000000   \n",
       "unique         52   52            2           NaN             NaN   \n",
       "top     Joe Gqabi  DC2  Fay-Heriott           NaN             NaN   \n",
       "freq            2    2           52           NaN             NaN   \n",
       "mean          NaN  NaN          NaN     12.113805        8.507655   \n",
       "std           NaN  NaN          NaN      4.978586        4.635330   \n",
       "min           NaN  NaN          NaN      1.584032        0.000000   \n",
       "25%           NaN  NaN          NaN      8.869829        4.911882   \n",
       "50%           NaN  NaN          NaN     11.750000        8.165653   \n",
       "75%           NaN  NaN          NaN     15.718785       11.617805   \n",
       "max           NaN  NaN          NaN     25.000000       18.218028   \n",
       "\n",
       "        Prevalence_UCL        NoPLHIV    NoPLHIV_LCL    NoPLHIV_UCL  \n",
       "count       104.000000     104.000000     104.000000     104.000000  \n",
       "unique             NaN            NaN            NaN            NaN  \n",
       "top                NaN            NaN            NaN            NaN  \n",
       "freq               NaN            NaN            NaN            NaN  \n",
       "mean         16.142182  123914.230769   89210.009615  162458.317308  \n",
       "std           6.055076  115469.372356   89791.909524  145761.963447  \n",
       "min           2.998406    1876.000000       0.000000    3552.000000  \n",
       "25%          12.301325   46667.500000   28057.750000   68507.750000  \n",
       "50%          15.935119   99751.500000   69407.500000  136812.000000  \n",
       "75%          19.378361  146335.500000  115101.250000  181302.250000  \n",
       "max          40.945994  515387.000000  408472.000000  660996.000000  "
      ]
     },
     "execution_count": 6,
     "metadata": {},
     "output_type": "execute_result"
    }
   ],
   "source": [
    "#summary\n",
    "df.describe(include='all') "
   ]
  },
  {
   "cell_type": "code",
   "execution_count": 7,
   "metadata": {},
   "outputs": [
    {
     "name": "stdout",
     "output_type": "stream",
     "text": [
      "<class 'pandas.core.frame.DataFrame'>\n",
      "RangeIndex: 104 entries, 0 to 103\n",
      "Data columns (total 9 columns):\n",
      "District          104 non-null object\n",
      "Code              104 non-null object\n",
      "Estimate          104 non-null object\n",
      "Prevalence_%      104 non-null float64\n",
      "Prevalence_LCL    104 non-null float64\n",
      "Prevalence_UCL    104 non-null float64\n",
      "NoPLHIV           104 non-null int64\n",
      "NoPLHIV_LCL       104 non-null int64\n",
      "NoPLHIV_UCL       104 non-null int64\n",
      "dtypes: float64(3), int64(3), object(3)\n",
      "memory usage: 7.4+ KB\n"
     ]
    }
   ],
   "source": [
    "#check nulls\n",
    "df.info()"
   ]
  },
  {
   "cell_type": "code",
   "execution_count": 9,
   "metadata": {},
   "outputs": [
    {
     "data": {
      "text/plain": [
       "104"
      ]
     },
     "execution_count": 9,
     "metadata": {},
     "output_type": "execute_result"
    }
   ],
   "source": [
    "#check uniqueness\n",
    "len(df.drop_duplicates(subset=['District','Code','Estimate']))"
   ]
  },
  {
   "cell_type": "markdown",
   "metadata": {},
   "source": [
    "# What is the total number of people living with HIV (NoPLHIV) in the listed districts according to the Survey estimate?"
   ]
  },
  {
   "cell_type": "code",
   "execution_count": 24,
   "metadata": {},
   "outputs": [
    {
     "data": {
      "text/html": [
       "<div>\n",
       "<style scoped>\n",
       "    .dataframe tbody tr th:only-of-type {\n",
       "        vertical-align: middle;\n",
       "    }\n",
       "\n",
       "    .dataframe tbody tr th {\n",
       "        vertical-align: top;\n",
       "    }\n",
       "\n",
       "    .dataframe thead th {\n",
       "        text-align: right;\n",
       "    }\n",
       "</style>\n",
       "<table border=\"1\" class=\"dataframe\">\n",
       "  <thead>\n",
       "    <tr style=\"text-align: right;\">\n",
       "      <th></th>\n",
       "      <th>District</th>\n",
       "      <th>Estimate</th>\n",
       "      <th>NoPLHIV total</th>\n",
       "    </tr>\n",
       "  </thead>\n",
       "  <tbody>\n",
       "    <tr>\n",
       "      <th>0</th>\n",
       "      <td>Alfred Nzo</td>\n",
       "      <td>Fay-Heriott</td>\n",
       "      <td>105145</td>\n",
       "    </tr>\n",
       "    <tr>\n",
       "      <th>1</th>\n",
       "      <td>Alfred Nzo</td>\n",
       "      <td>Survey</td>\n",
       "      <td>104363</td>\n",
       "    </tr>\n",
       "    <tr>\n",
       "      <th>2</th>\n",
       "      <td>Amajuba</td>\n",
       "      <td>Fay-Heriott</td>\n",
       "      <td>81010</td>\n",
       "    </tr>\n",
       "    <tr>\n",
       "      <th>3</th>\n",
       "      <td>Amajuba</td>\n",
       "      <td>Survey</td>\n",
       "      <td>82210</td>\n",
       "    </tr>\n",
       "    <tr>\n",
       "      <th>4</th>\n",
       "      <td>Amatole</td>\n",
       "      <td>Fay-Heriott</td>\n",
       "      <td>106783</td>\n",
       "    </tr>\n",
       "    <tr>\n",
       "      <th>...</th>\n",
       "      <td>...</td>\n",
       "      <td>...</td>\n",
       "      <td>...</td>\n",
       "    </tr>\n",
       "    <tr>\n",
       "      <th>99</th>\n",
       "      <td>uMzinyathi</td>\n",
       "      <td>Survey</td>\n",
       "      <td>93587</td>\n",
       "    </tr>\n",
       "    <tr>\n",
       "      <th>100</th>\n",
       "      <td>uThukela</td>\n",
       "      <td>Fay-Heriott</td>\n",
       "      <td>115549</td>\n",
       "    </tr>\n",
       "    <tr>\n",
       "      <th>101</th>\n",
       "      <td>uThukela</td>\n",
       "      <td>Survey</td>\n",
       "      <td>118124</td>\n",
       "    </tr>\n",
       "    <tr>\n",
       "      <th>102</th>\n",
       "      <td>uThungulu</td>\n",
       "      <td>Fay-Heriott</td>\n",
       "      <td>160285</td>\n",
       "    </tr>\n",
       "    <tr>\n",
       "      <th>103</th>\n",
       "      <td>uThungulu</td>\n",
       "      <td>Survey</td>\n",
       "      <td>162238</td>\n",
       "    </tr>\n",
       "  </tbody>\n",
       "</table>\n",
       "<p>104 rows × 3 columns</p>\n",
       "</div>"
      ],
      "text/plain": [
       "       District     Estimate  NoPLHIV total\n",
       "0    Alfred Nzo  Fay-Heriott         105145\n",
       "1    Alfred Nzo       Survey         104363\n",
       "2       Amajuba  Fay-Heriott          81010\n",
       "3       Amajuba       Survey          82210\n",
       "4       Amatole  Fay-Heriott         106783\n",
       "..          ...          ...            ...\n",
       "99   uMzinyathi       Survey          93587\n",
       "100    uThukela  Fay-Heriott         115549\n",
       "101    uThukela       Survey         118124\n",
       "102   uThungulu  Fay-Heriott         160285\n",
       "103   uThungulu       Survey         162238\n",
       "\n",
       "[104 rows x 3 columns]"
      ]
     },
     "execution_count": 24,
     "metadata": {},
     "output_type": "execute_result"
    }
   ],
   "source": [
    "# Group by district and estimante then sum the total\n",
    "df.groupby(['District','Estimate'])['NoPLHIV'].sum().reset_index(name ='NoPLHIV total')"
   ]
  },
  {
   "cell_type": "code",
   "execution_count": 25,
   "metadata": {},
   "outputs": [
    {
     "data": {
      "text/plain": [
       "District    Estimate   \n",
       "Alfred Nzo  Fay-Heriott    105145\n",
       "            Survey         104363\n",
       "Amajuba     Fay-Heriott     81010\n",
       "            Survey          82210\n",
       "Amatole     Fay-Heriott    106783\n",
       "                            ...  \n",
       "uMzinyathi  Survey          93587\n",
       "uThukela    Fay-Heriott    115549\n",
       "            Survey         118124\n",
       "uThungulu   Fay-Heriott    160285\n",
       "            Survey         162238\n",
       "Name: NoPLHIV, Length: 104, dtype: int64"
      ]
     },
     "execution_count": 25,
     "metadata": {},
     "output_type": "execute_result"
    }
   ],
   "source": [
    "df.groupby(['District','Estimate'])['NoPLHIV'].sum()"
   ]
  },
  {
   "cell_type": "code",
   "execution_count": 31,
   "metadata": {},
   "outputs": [
    {
     "data": {
      "text/plain": [
       "<matplotlib.axes._subplots.AxesSubplot at 0x1f70db4ab50>"
      ]
     },
     "execution_count": 31,
     "metadata": {},
     "output_type": "execute_result"
    },
    {
     "data": {
      "image/png": "[encoded data removed]",
      "text/plain": [
       "<Figure size 432x288 with 1 Axes>"
      ]
     },
     "metadata": {
      "needs_background": "light"
     },
     "output_type": "display_data"
    }
   ],
   "source": [
    "sns.boxplot(x=\"Estimate\", y=\"NoPLHIV\", data=df, width=.6)"
   ]
  },
  {
   "cell_type": "code",
   "execution_count": 26,
   "metadata": {},
   "outputs": [
    {
     "data": {
      "text/plain": [
       "<matplotlib.axes._subplots.AxesSubplot at 0x1f70d59d850>"
      ]
     },
     "execution_count": 26,
     "metadata": {},
     "output_type": "execute_result"
    },
    {
     "data": {
      "image/png": "[encoded data removed]",
      "text/plain": [
       "<Figure size 432x288 with 1 Axes>"
      ]
     },
     "metadata": {
      "needs_background": "light"
     },
     "output_type": "display_data"
    }
   ],
   "source": [
    "sns.stripplot(x=\"District\", y=\"NoPLHIV total\",hue=\"Estimate\", \n",
    "              data=df.groupby(['District','Estimate'])['NoPLHIV'].sum().reset_index(name ='NoPLHIV total'))"
   ]
  },
  {
   "cell_type": "code",
   "execution_count": 21,
   "metadata": {},
   "outputs": [],
   "source": [
    "#df.groupby(['District','Estimate','NoPLHIV']).agg(('NoPLHIV', sum))"
   ]
  },
  {
   "cell_type": "markdown",
   "metadata": {},
   "source": [
    "# What is the average NoPLHIV of the two estimates used for “Xhariep”?"
   ]
  },
  {
   "cell_type": "code",
   "execution_count": 70,
   "metadata": {},
   "outputs": [
    {
     "data": {
      "text/html": [
       "<div>\n",
       "<style scoped>\n",
       "    .dataframe tbody tr th:only-of-type {\n",
       "        vertical-align: middle;\n",
       "    }\n",
       "\n",
       "    .dataframe tbody tr th {\n",
       "        vertical-align: top;\n",
       "    }\n",
       "\n",
       "    .dataframe thead th {\n",
       "        text-align: right;\n",
       "    }\n",
       "</style>\n",
       "<table border=\"1\" class=\"dataframe\">\n",
       "  <thead>\n",
       "    <tr style=\"text-align: right;\">\n",
       "      <th></th>\n",
       "      <th>District</th>\n",
       "      <th>Code</th>\n",
       "      <th>Estimate</th>\n",
       "      <th>Prevalence_%</th>\n",
       "      <th>Prevalence_LCL</th>\n",
       "      <th>Prevalence_UCL</th>\n",
       "      <th>NoPLHIV</th>\n",
       "      <th>NoPLHIV_LCL</th>\n",
       "      <th>NoPLHIV_UCL</th>\n",
       "      <th>HIV_negative</th>\n",
       "    </tr>\n",
       "  </thead>\n",
       "  <tbody>\n",
       "    <tr>\n",
       "      <th>16</th>\n",
       "      <td>Xhariep</td>\n",
       "      <td>DC16</td>\n",
       "      <td>Survey</td>\n",
       "      <td>8.30000</td>\n",
       "      <td>6.144000</td>\n",
       "      <td>10.456000</td>\n",
       "      <td>11777</td>\n",
       "      <td>8718</td>\n",
       "      <td>14836</td>\n",
       "      <td>141891</td>\n",
       "    </tr>\n",
       "    <tr>\n",
       "      <th>17</th>\n",
       "      <td>Xhariep</td>\n",
       "      <td>DC16</td>\n",
       "      <td>Fay-Heriott</td>\n",
       "      <td>8.96307</td>\n",
       "      <td>7.187823</td>\n",
       "      <td>11.124214</td>\n",
       "      <td>12718</td>\n",
       "      <td>10199</td>\n",
       "      <td>15784</td>\n",
       "      <td>141893</td>\n",
       "    </tr>\n",
       "  </tbody>\n",
       "</table>\n",
       "</div>"
      ],
      "text/plain": [
       "   District  Code     Estimate  Prevalence_%  Prevalence_LCL  Prevalence_UCL  \\\n",
       "16  Xhariep  DC16       Survey       8.30000        6.144000       10.456000   \n",
       "17  Xhariep  DC16  Fay-Heriott       8.96307        7.187823       11.124214   \n",
       "\n",
       "    NoPLHIV  NoPLHIV_LCL  NoPLHIV_UCL  HIV_negative  \n",
       "16    11777         8718        14836        141891  \n",
       "17    12718        10199        15784        141893  "
      ]
     },
     "execution_count": 70,
     "metadata": {},
     "output_type": "execute_result"
    }
   ],
   "source": [
    "df[df['District']=='Xhariep']"
   ]
  },
  {
   "cell_type": "code",
   "execution_count": 34,
   "metadata": {},
   "outputs": [
    {
     "data": {
      "text/plain": [
       "12247.5"
      ]
     },
     "execution_count": 34,
     "metadata": {},
     "output_type": "execute_result"
    }
   ],
   "source": [
    "df[df['District']=='Xhariep']['NoPLHIV'].mean()"
   ]
  },
  {
   "cell_type": "code",
   "execution_count": 38,
   "metadata": {
    "scrolled": true
   },
   "outputs": [
    {
     "data": {
      "text/plain": [
       "Prevalence_%          8.631535\n",
       "Prevalence_LCL        6.665912\n",
       "Prevalence_UCL       10.790107\n",
       "NoPLHIV           12247.500000\n",
       "NoPLHIV_LCL        9458.500000\n",
       "NoPLHIV_UCL       15310.000000\n",
       "dtype: float64"
      ]
     },
     "execution_count": 38,
     "metadata": {},
     "output_type": "execute_result"
    }
   ],
   "source": [
    "df[df['District']=='Xhariep'].agg('mean')"
   ]
  },
  {
   "cell_type": "code",
   "execution_count": 44,
   "metadata": {},
   "outputs": [
    {
     "name": "stdout",
     "output_type": "stream",
     "text": [
      "The average NoPLHIV: 12247.5\n"
     ]
    }
   ],
   "source": [
    "print(\"The average NoPLHIV:\",(11777+12718)/2)"
   ]
  },
  {
   "cell_type": "markdown",
   "metadata": {},
   "source": [
    "# Add a column and populate it with the number of people not living with HIV for each row."
   ]
  },
  {
   "cell_type": "code",
   "execution_count": 46,
   "metadata": {},
   "outputs": [],
   "source": [
    "df['HIV_negative'] = (df['NoPLHIV']/(df['Prevalence_%']/100)).astype(int)"
   ]
  },
  {
   "cell_type": "code",
   "execution_count": 47,
   "metadata": {},
   "outputs": [
    {
     "data": {
      "text/html": [
       "<div>\n",
       "<style scoped>\n",
       "    .dataframe tbody tr th:only-of-type {\n",
       "        vertical-align: middle;\n",
       "    }\n",
       "\n",
       "    .dataframe tbody tr th {\n",
       "        vertical-align: top;\n",
       "    }\n",
       "\n",
       "    .dataframe thead th {\n",
       "        text-align: right;\n",
       "    }\n",
       "</style>\n",
       "<table border=\"1\" class=\"dataframe\">\n",
       "  <thead>\n",
       "    <tr style=\"text-align: right;\">\n",
       "      <th></th>\n",
       "      <th>District</th>\n",
       "      <th>Code</th>\n",
       "      <th>Estimate</th>\n",
       "      <th>Prevalence_%</th>\n",
       "      <th>Prevalence_LCL</th>\n",
       "      <th>Prevalence_UCL</th>\n",
       "      <th>NoPLHIV</th>\n",
       "      <th>NoPLHIV_LCL</th>\n",
       "      <th>NoPLHIV_UCL</th>\n",
       "      <th>HIV_negative</th>\n",
       "    </tr>\n",
       "  </thead>\n",
       "  <tbody>\n",
       "    <tr>\n",
       "      <th>0</th>\n",
       "      <td>Buffalo City</td>\n",
       "      <td>BUF</td>\n",
       "      <td>Survey</td>\n",
       "      <td>13.600000</td>\n",
       "      <td>10.268000</td>\n",
       "      <td>16.932000</td>\n",
       "      <td>102437</td>\n",
       "      <td>77340</td>\n",
       "      <td>127534</td>\n",
       "      <td>753213</td>\n",
       "    </tr>\n",
       "    <tr>\n",
       "      <th>1</th>\n",
       "      <td>Buffalo City</td>\n",
       "      <td>BUF</td>\n",
       "      <td>Fay-Heriott</td>\n",
       "      <td>13.501283</td>\n",
       "      <td>11.031605</td>\n",
       "      <td>16.421802</td>\n",
       "      <td>101693</td>\n",
       "      <td>83092</td>\n",
       "      <td>123691</td>\n",
       "      <td>753209</td>\n",
       "    </tr>\n",
       "    <tr>\n",
       "      <th>2</th>\n",
       "      <td>City of Cape Town</td>\n",
       "      <td>CPT</td>\n",
       "      <td>Survey</td>\n",
       "      <td>5.200000</td>\n",
       "      <td>3.044000</td>\n",
       "      <td>7.356000</td>\n",
       "      <td>200751</td>\n",
       "      <td>117517</td>\n",
       "      <td>283985</td>\n",
       "      <td>3860596</td>\n",
       "    </tr>\n",
       "    <tr>\n",
       "      <th>3</th>\n",
       "      <td>City of Cape Town</td>\n",
       "      <td>CPT</td>\n",
       "      <td>Fay-Heriott</td>\n",
       "      <td>6.020043</td>\n",
       "      <td>4.335072</td>\n",
       "      <td>8.303091</td>\n",
       "      <td>232409</td>\n",
       "      <td>167359</td>\n",
       "      <td>320548</td>\n",
       "      <td>3860587</td>\n",
       "    </tr>\n",
       "    <tr>\n",
       "      <th>4</th>\n",
       "      <td>West Coast</td>\n",
       "      <td>DC1</td>\n",
       "      <td>Survey</td>\n",
       "      <td>2.700000</td>\n",
       "      <td>0.000000</td>\n",
       "      <td>5.444000</td>\n",
       "      <td>11302</td>\n",
       "      <td>0</td>\n",
       "      <td>22789</td>\n",
       "      <td>418592</td>\n",
       "    </tr>\n",
       "  </tbody>\n",
       "</table>\n",
       "</div>"
      ],
      "text/plain": [
       "            District Code     Estimate  Prevalence_%  Prevalence_LCL  \\\n",
       "0       Buffalo City  BUF       Survey     13.600000       10.268000   \n",
       "1       Buffalo City  BUF  Fay-Heriott     13.501283       11.031605   \n",
       "2  City of Cape Town  CPT       Survey      5.200000        3.044000   \n",
       "3  City of Cape Town  CPT  Fay-Heriott      6.020043        4.335072   \n",
       "4         West Coast  DC1       Survey      2.700000        0.000000   \n",
       "\n",
       "   Prevalence_UCL  NoPLHIV  NoPLHIV_LCL  NoPLHIV_UCL  HIV_negative  \n",
       "0       16.932000   102437        77340       127534        753213  \n",
       "1       16.421802   101693        83092       123691        753209  \n",
       "2        7.356000   200751       117517       283985       3860596  \n",
       "3        8.303091   232409       167359       320548       3860587  \n",
       "4        5.444000    11302            0        22789        418592  "
      ]
     },
     "execution_count": 47,
     "metadata": {},
     "output_type": "execute_result"
    }
   ],
   "source": [
    "df.head()"
   ]
  },
  {
   "cell_type": "markdown",
   "metadata": {},
   "source": [
    "# What is the total NoPLHIV in all the cities (districts with the word “city” or “metro” in the name)?"
   ]
  },
  {
   "cell_type": "code",
   "execution_count": 61,
   "metadata": {},
   "outputs": [
    {
     "data": {
      "text/html": [
       "<div>\n",
       "<style scoped>\n",
       "    .dataframe tbody tr th:only-of-type {\n",
       "        vertical-align: middle;\n",
       "    }\n",
       "\n",
       "    .dataframe tbody tr th {\n",
       "        vertical-align: top;\n",
       "    }\n",
       "\n",
       "    .dataframe thead th {\n",
       "        text-align: right;\n",
       "    }\n",
       "</style>\n",
       "<table border=\"1\" class=\"dataframe\">\n",
       "  <thead>\n",
       "    <tr style=\"text-align: right;\">\n",
       "      <th></th>\n",
       "      <th>District</th>\n",
       "      <th>Code</th>\n",
       "      <th>Estimate</th>\n",
       "      <th>Prevalence_%</th>\n",
       "      <th>Prevalence_LCL</th>\n",
       "      <th>Prevalence_UCL</th>\n",
       "      <th>NoPLHIV</th>\n",
       "      <th>NoPLHIV_LCL</th>\n",
       "      <th>NoPLHIV_UCL</th>\n",
       "      <th>HIV_negative</th>\n",
       "    </tr>\n",
       "  </thead>\n",
       "  <tbody>\n",
       "    <tr>\n",
       "      <th>0</th>\n",
       "      <td>Buffalo City</td>\n",
       "      <td>BUF</td>\n",
       "      <td>Survey</td>\n",
       "      <td>13.600000</td>\n",
       "      <td>10.268000</td>\n",
       "      <td>16.932000</td>\n",
       "      <td>102437</td>\n",
       "      <td>77340</td>\n",
       "      <td>127534</td>\n",
       "      <td>753213</td>\n",
       "    </tr>\n",
       "    <tr>\n",
       "      <th>1</th>\n",
       "      <td>Buffalo City</td>\n",
       "      <td>BUF</td>\n",
       "      <td>Fay-Heriott</td>\n",
       "      <td>13.501283</td>\n",
       "      <td>11.031605</td>\n",
       "      <td>16.421802</td>\n",
       "      <td>101693</td>\n",
       "      <td>83092</td>\n",
       "      <td>123691</td>\n",
       "      <td>753209</td>\n",
       "    </tr>\n",
       "    <tr>\n",
       "      <th>2</th>\n",
       "      <td>City of Cape Town</td>\n",
       "      <td>CPT</td>\n",
       "      <td>Survey</td>\n",
       "      <td>5.200000</td>\n",
       "      <td>3.044000</td>\n",
       "      <td>7.356000</td>\n",
       "      <td>200751</td>\n",
       "      <td>117517</td>\n",
       "      <td>283985</td>\n",
       "      <td>3860596</td>\n",
       "    </tr>\n",
       "    <tr>\n",
       "      <th>3</th>\n",
       "      <td>City of Cape Town</td>\n",
       "      <td>CPT</td>\n",
       "      <td>Fay-Heriott</td>\n",
       "      <td>6.020043</td>\n",
       "      <td>4.335072</td>\n",
       "      <td>8.303091</td>\n",
       "      <td>232409</td>\n",
       "      <td>167359</td>\n",
       "      <td>320548</td>\n",
       "      <td>3860587</td>\n",
       "    </tr>\n",
       "    <tr>\n",
       "      <th>96</th>\n",
       "      <td>City of Johannesburg</td>\n",
       "      <td>JHB</td>\n",
       "      <td>Survey</td>\n",
       "      <td>11.100000</td>\n",
       "      <td>7.964000</td>\n",
       "      <td>14.236000</td>\n",
       "      <td>515387</td>\n",
       "      <td>369778</td>\n",
       "      <td>660996</td>\n",
       "      <td>4643126</td>\n",
       "    </tr>\n",
       "    <tr>\n",
       "      <th>97</th>\n",
       "      <td>City of Johannesburg</td>\n",
       "      <td>JHB</td>\n",
       "      <td>Fay-Heriott</td>\n",
       "      <td>11.075306</td>\n",
       "      <td>8.760104</td>\n",
       "      <td>13.909111</td>\n",
       "      <td>514241</td>\n",
       "      <td>406743</td>\n",
       "      <td>645818</td>\n",
       "      <td>4643131</td>\n",
       "    </tr>\n",
       "    <tr>\n",
       "      <th>102</th>\n",
       "      <td>City of Tshwane</td>\n",
       "      <td>TSH</td>\n",
       "      <td>Survey</td>\n",
       "      <td>11.700000</td>\n",
       "      <td>7.388000</td>\n",
       "      <td>16.012000</td>\n",
       "      <td>361450</td>\n",
       "      <td>228239</td>\n",
       "      <td>494661</td>\n",
       "      <td>3089316</td>\n",
       "    </tr>\n",
       "    <tr>\n",
       "      <th>103</th>\n",
       "      <td>City of Tshwane</td>\n",
       "      <td>TSH</td>\n",
       "      <td>Fay-Heriott</td>\n",
       "      <td>11.024858</td>\n",
       "      <td>8.255934</td>\n",
       "      <td>14.574909</td>\n",
       "      <td>340593</td>\n",
       "      <td>255052</td>\n",
       "      <td>450265</td>\n",
       "      <td>3089318</td>\n",
       "    </tr>\n",
       "  </tbody>\n",
       "</table>\n",
       "</div>"
      ],
      "text/plain": [
       "                 District Code     Estimate  Prevalence_%  Prevalence_LCL  \\\n",
       "0            Buffalo City  BUF       Survey     13.600000       10.268000   \n",
       "1            Buffalo City  BUF  Fay-Heriott     13.501283       11.031605   \n",
       "2       City of Cape Town  CPT       Survey      5.200000        3.044000   \n",
       "3       City of Cape Town  CPT  Fay-Heriott      6.020043        4.335072   \n",
       "96   City of Johannesburg  JHB       Survey     11.100000        7.964000   \n",
       "97   City of Johannesburg  JHB  Fay-Heriott     11.075306        8.760104   \n",
       "102       City of Tshwane  TSH       Survey     11.700000        7.388000   \n",
       "103       City of Tshwane  TSH  Fay-Heriott     11.024858        8.255934   \n",
       "\n",
       "     Prevalence_UCL  NoPLHIV  NoPLHIV_LCL  NoPLHIV_UCL  HIV_negative  \n",
       "0         16.932000   102437        77340       127534        753213  \n",
       "1         16.421802   101693        83092       123691        753209  \n",
       "2          7.356000   200751       117517       283985       3860596  \n",
       "3          8.303091   232409       167359       320548       3860587  \n",
       "96        14.236000   515387       369778       660996       4643126  \n",
       "97        13.909111   514241       406743       645818       4643131  \n",
       "102       16.012000   361450       228239       494661       3089316  \n",
       "103       14.574909   340593       255052       450265       3089318  "
      ]
     },
     "execution_count": 61,
     "metadata": {},
     "output_type": "execute_result"
    }
   ],
   "source": [
    "df[df['District'].str.contains(\"city\",case=False,regex=False)]"
   ]
  },
  {
   "cell_type": "code",
   "execution_count": 62,
   "metadata": {},
   "outputs": [
    {
     "data": {
      "text/html": [
       "<div>\n",
       "<style scoped>\n",
       "    .dataframe tbody tr th:only-of-type {\n",
       "        vertical-align: middle;\n",
       "    }\n",
       "\n",
       "    .dataframe tbody tr th {\n",
       "        vertical-align: top;\n",
       "    }\n",
       "\n",
       "    .dataframe thead th {\n",
       "        text-align: right;\n",
       "    }\n",
       "</style>\n",
       "<table border=\"1\" class=\"dataframe\">\n",
       "  <thead>\n",
       "    <tr style=\"text-align: right;\">\n",
       "      <th></th>\n",
       "      <th>District</th>\n",
       "      <th>Code</th>\n",
       "      <th>Estimate</th>\n",
       "      <th>Prevalence_%</th>\n",
       "      <th>Prevalence_LCL</th>\n",
       "      <th>Prevalence_UCL</th>\n",
       "      <th>NoPLHIV</th>\n",
       "      <th>NoPLHIV_LCL</th>\n",
       "      <th>NoPLHIV_UCL</th>\n",
       "      <th>HIV_negative</th>\n",
       "    </tr>\n",
       "  </thead>\n",
       "  <tbody>\n",
       "    <tr>\n",
       "      <th>100</th>\n",
       "      <td>Nelson Mandela Bay Metro</td>\n",
       "      <td>NMA</td>\n",
       "      <td>Survey</td>\n",
       "      <td>8.30000</td>\n",
       "      <td>3.400000</td>\n",
       "      <td>13.200000</td>\n",
       "      <td>97459</td>\n",
       "      <td>39923</td>\n",
       "      <td>154995</td>\n",
       "      <td>1174204</td>\n",
       "    </tr>\n",
       "    <tr>\n",
       "      <th>101</th>\n",
       "      <td>Nelson Mandela Bay Metro</td>\n",
       "      <td>NMA</td>\n",
       "      <td>Fay-Heriott</td>\n",
       "      <td>9.05406</td>\n",
       "      <td>6.128703</td>\n",
       "      <td>13.179704</td>\n",
       "      <td>106313</td>\n",
       "      <td>71964</td>\n",
       "      <td>154757</td>\n",
       "      <td>1174202</td>\n",
       "    </tr>\n",
       "  </tbody>\n",
       "</table>\n",
       "</div>"
      ],
      "text/plain": [
       "                     District Code     Estimate  Prevalence_%  Prevalence_LCL  \\\n",
       "100  Nelson Mandela Bay Metro  NMA       Survey       8.30000        3.400000   \n",
       "101  Nelson Mandela Bay Metro  NMA  Fay-Heriott       9.05406        6.128703   \n",
       "\n",
       "     Prevalence_UCL  NoPLHIV  NoPLHIV_LCL  NoPLHIV_UCL  HIV_negative  \n",
       "100       13.200000    97459        39923       154995       1174204  \n",
       "101       13.179704   106313        71964       154757       1174202  "
      ]
     },
     "execution_count": 62,
     "metadata": {},
     "output_type": "execute_result"
    }
   ],
   "source": [
    "df[df['District'].str.contains(\"metro\",case=False,regex=False)]"
   ]
  },
  {
   "cell_type": "code",
   "execution_count": 5,
   "metadata": {},
   "outputs": [],
   "source": [
    "df_city = df[(df['District'].str.contains(\"city\",case=False,regex=False)) | (df['District'].str.contains(\"Metro\",case=False,regex=False))]"
   ]
  },
  {
   "cell_type": "code",
   "execution_count": 6,
   "metadata": {},
   "outputs": [
    {
     "name": "stdout",
     "output_type": "stream",
     "text": [
      "(10, 9)\n"
     ]
    }
   ],
   "source": [
    "print(df_city.shape)"
   ]
  },
  {
   "cell_type": "code",
   "execution_count": 8,
   "metadata": {},
   "outputs": [
    {
     "name": "stdout",
     "output_type": "stream",
     "text": [
      "total NoPLHIV in all the cities is 2572733\n"
     ]
    }
   ],
   "source": [
    "print(\"total NoPLHIV in all the cities is\",df_city['NoPLHIV'].sum())"
   ]
  },
  {
   "cell_type": "markdown",
   "metadata": {},
   "source": [
    "# Write the original data (without the caption - originally row 1) \n",
    "# with the extra columns as comma-separated values (CSV) to a new .csv file."
   ]
  },
  {
   "cell_type": "code",
   "execution_count": 65,
   "metadata": {},
   "outputs": [],
   "source": [
    "df.to_csv('new.csv')"
   ]
  },
  {
   "cell_type": "code",
   "execution_count": 69,
   "metadata": {},
   "outputs": [
    {
     "name": "stdout",
     "output_type": "stream",
     "text": [
      "The time it took was:  1:20:43.176487\n"
     ]
    }
   ],
   "source": [
    "end_time = datetime.datetime.now()\n",
    "\n",
    "print(\"The time it took was to finish: \", end_time -start_time)"
   ]
  },
  {
   "cell_type": "code",
   "execution_count": null,
   "metadata": {},
   "outputs": [],
   "source": []
  }
 ],
 "metadata": {
  "kernelspec": {
   "display_name": "Python 3",
   "language": "python",
   "name": "python3"
  },
  "language_info": {
   "codemirror_mode": {
    "name": "ipython",
    "version": 3
   },
   "file_extension": ".py",
   "mimetype": "text/x-python",
   "name": "python",
   "nbconvert_exporter": "python",
   "pygments_lexer": "ipython3",
   "version": "3.8.1"
  }
 },
 "nbformat": 4,
 "nbformat_minor": 4
}
